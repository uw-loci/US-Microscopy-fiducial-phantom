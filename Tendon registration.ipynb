{
 "cells": [
  {
   "cell_type": "markdown",
   "metadata": {},
   "source": [
    "# Introduction\n",
    "This notebook covers part 3 of the data analysis for the paper: \"3D-printed registration phantom for multiscale ultrasound and optical microscopy of small tissue samples.\"\n",
    "\n",
    "\n",
    "1.) Rotation: Calculating coordinate system transforms and standard deviations for the fiducial phantom over 5 rotations.\n",
    "\n",
    "2.) Height: Calculating the coordinate system transforms and standard deviations for the fiducial phantom over 7 heights.\n",
    "\n",
    "3.) Tendon: Apply the transform onto an image of a tendon.\n"
   ]
  },
  {
   "cell_type": "code",
   "execution_count": 1,
   "metadata": {},
   "outputs": [],
   "source": [
    "# Import basic modules\n",
    "from pathlib import Path\n",
    "import numpy as np\n",
    "import SimpleITK as sitk\n",
    "%matplotlib notebook\n",
    "import matplotlib.pyplot as plt\n",
    "import tiffile as tif\n",
    "import pickle\n",
    "import os"
   ]
  },
  {
   "cell_type": "code",
   "execution_count": 2,
   "metadata": {},
   "outputs": [],
   "source": [
    "# These modules all come from the multiscale-imaging package: https://github.com/uw-loci/multiscale\n",
    "import multiscale.ultrasound.reconstruction as recon\n",
    "import multiscale.itk.itk_plotting as iplt\n",
    "import multiscale.itk.registration as reg\n",
    "import multiscale.itk.process as proc\n",
    "import multiscale.utility_functions as util"
   ]
  },
  {
   "cell_type": "markdown",
   "metadata": {},
   "source": [
    "The function definitions below are provided to show the operations applied to acquire the results.  These functions have also been adapted into the multiscale imaging package.  The modified versions are used in the single registration example notebook and the apply registration example notebook."
   ]
  },
  {
   "cell_type": "code",
   "execution_count": 3,
   "metadata": {},
   "outputs": [],
   "source": [
    "# These function definitions are used for the analysis.\n",
    "\n",
    "def open_us(us_path, dynamic_range, spacing, origin):\n",
    "    \"\"\"Open the US image, window it to a dynamic range, and rotate it to microscope coordinate axes\"\"\"\n",
    "    raw_image = sitk.ReadImage(str(us_path))\n",
    "    windowed_image = proc.window_image(raw_image, dynamic_range)\n",
    "    us_image = rotate_axes_to_microscope(windowed_image)\n",
    "    us_image.SetSpacing(spacing)\n",
    "    us_image.SetOrigin(origin)\n",
    "    us_image.SetDirection([1, 0, 0, 0, 1, 0, 0, 0, -1])\n",
    "    return us_image\n",
    "\n",
    "def open_mpm(mpm_path, mpm_origin_path, mpm_spacing):\n",
    "    \"\"\"Open the MPM image and set the direction to -1 in Z to mirror microscope convention\"\"\"\n",
    "    positions = positions_from_ometif(mpm_origin_path)\n",
    "    origin = np.min(positions, 0)\n",
    "    mpm_image = sitk.ReadImage(str(mpm_path))\n",
    "    mpm_image.SetSpacing(mpm_spacing)\n",
    "    mpm_image.SetOrigin(origin)\n",
    "    mpm_image.SetDirection([1, 0, 0, 0, 1, 0, 0, 0, -1])\n",
    "    return mpm_image\n",
    "\n",
    "def rotate_axes_to_microscope(image):\n",
    "    \"\"\"Rotate the US axes to be along the microscope axes\"\"\"\n",
    "    arr = sitk.GetArrayFromImage(image)\n",
    "    arr_rot = np.swapaxes(arr, 0, 1)\n",
    "    arr_rot = np.flip(arr_rot, 0).astype(np.uint8)\n",
    "    return sitk.GetImageFromArray(arr_rot)\n",
    "\n",
    "def positions_from_ometif(file_path):\n",
    "    \"\"\"Read a .ome.tif file and grab the image positions as a numpy array\"\"\"\n",
    "    reader = sitk.ImageFileReader()\n",
    "    reader.SetFileName(str(file_path))\n",
    "    reader.ReadImageInformation()\n",
    "    raw_info = reader.GetMetaData('ImageDescription')\n",
    "    info = tif.xml2dict(raw_info)\n",
    "    mpm_list = []\n",
    "    for position in info['OME']['Image']:\n",
    "        x = position['StageLabel']['X']\n",
    "        y = position['StageLabel']['Y']\n",
    "        z = position['Pixels']['Plane'][0]['PositionZ']\n",
    "        mpm_list.append(np.array([x, y, z]))\n",
    "    return np.array(mpm_list)\n",
    "\n",
    "def get_xy_origin(pl_path):\n",
    "    \"\"\"Read an ultrasound position list and get the XY origin\"\"\"\n",
    "    raw_pos_list = util.read_json(pl_path)\n",
    "    pos_list = recon.clean_position_text(raw_pos_list)[0]\n",
    "    xy_origin = np.min(pos_list, 0)\n",
    "    return xy_origin\n",
    "\n",
    "def apply_transform(moving_image, fixed_image, transform_params):\n",
    "    \"\"\"Apply a rigid transform based on input parameters\"\"\"\n",
    "    transform = sitk.VersorRigid3DTransform()\n",
    "    transform.SetParameters(transform_params)\n",
    "    reg = sitk.Resample(moving_image, fixed_image, transform, sitk.sitkLinear, 0.0, fixed_image.GetPixelID())\n",
    "    return reg"
   ]
  },
  {
   "cell_type": "code",
   "execution_count": 4,
   "metadata": {},
   "outputs": [],
   "source": [
    "# The input files are available at https://uwmadison.box.com/s/05ou19dsi2y2wfzgocf1ab7cbbeb4fgn\n",
    "base_dir = Path(r'F:\\Research')\n",
    "\n",
    "fiducial_dir = Path(base_dir, r'Fiducial paper analysis')\n",
    "metadata_dir = Path(base_dir, r'Fiducial paper analysis\\Metadata images')\n",
    "mpm_dir = Path(base_dir, r'Fiducial paper analysis\\MPM Images\\MPM downsampled')\n",
    "us_dir = Path(base_dir, r'Fiducial paper analysis\\Ultrasound')\n",
    "registered_dir = Path(base_dir, r'Fiducial paper analysis\\Registered')"
   ]
  },
  {
   "cell_type": "code",
   "execution_count": 5,
   "metadata": {},
   "outputs": [],
   "source": [
    "# Assign spacing manually\n",
    "us_spacing = [25, 25, 25]\n",
    "mpm_spacing = [8.16, 8.16, 25]\n",
    "\n",
    "# Specify the dynamic range of the US image\n",
    "dynamic_range = 50"
   ]
  },
  {
   "cell_type": "code",
   "execution_count": 6,
   "metadata": {},
   "outputs": [],
   "source": [
    "us_pl_path = Path(fiducial_dir, '2019-05-04_US - 3X 100YSep.pos')\n",
    "us_xy_origin = get_xy_origin(us_pl_path)"
   ]
  },
  {
   "cell_type": "code",
   "execution_count": 7,
   "metadata": {},
   "outputs": [],
   "source": [
    "# Open the images\n",
    "tendon_us_path = Path(us_dir, 'Tendon 2.tif')\n",
    "tendon_origin = [us_xy_origin[0], us_xy_origin[1], 4]\n",
    "us_tendon = open_us(tendon_us_path, dynamic_range, us_spacing, tendon_origin)\n",
    "\n",
    "tendon_mpm_path = Path(mpm_dir, 'Tendon 2.tif')\n",
    "tendon_origin_path = Path(metadata_dir, 'Tendon 2.ome.tif')\n",
    "mpm_tendon = open_mpm(tendon_mpm_path, tendon_origin_path, [8.16, 8.16, 8.16])"
   ]
  },
  {
   "cell_type": "code",
   "execution_count": 8,
   "metadata": {},
   "outputs": [],
   "source": [
    "# Open the transform\n",
    "coordinate_path = Path(fiducial_dir, 'Coordinate transform.txt')\n",
    "with open(coordinate_path, 'rb') as fp:\n",
    "    coordinate_transform = pickle.load(fp)"
   ]
  },
  {
   "cell_type": "code",
   "execution_count": 9,
   "metadata": {
    "scrolled": true
   },
   "outputs": [],
   "source": [
    "# Apply the transform US -> MPM\n",
    "tendon_reg = apply_transform(us_tendon, mpm_tendon, coordinate_transform)\n",
    "reg_path = Path(registered_dir, 'US Tendon 2.tif')\n",
    "sitk.WriteImage(tendon_reg, str(reg_path))"
   ]
  },
  {
   "cell_type": "code",
   "execution_count": 10,
   "metadata": {},
   "outputs": [],
   "source": [
    "# Apply the transform MPM -> US \n",
    "tendon_mpm_reg = apply_transform(mpm_tendon, us_tendon, -1*coordinate_transform)\n",
    "reg_path = Path(registered_dir, 'MPM Tendon 2.tif')\n",
    "sitk.WriteImage(tendon_mpm_reg, str(reg_path))"
   ]
  }
 ],
 "metadata": {
  "kernelspec": {
   "display_name": "Python 3",
   "language": "python",
   "name": "python3"
  },
  "language_info": {
   "codemirror_mode": {
    "name": "ipython",
    "version": 3
   },
   "file_extension": ".py",
   "mimetype": "text/x-python",
   "name": "python",
   "nbconvert_exporter": "python",
   "pygments_lexer": "ipython3",
   "version": "3.6.6"
  }
 },
 "nbformat": 4,
 "nbformat_minor": 2
}
